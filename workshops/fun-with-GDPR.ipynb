{
 "cells": [
  {
   "cell_type": "markdown",
   "metadata": {},
   "source": [
    "# Fun with EU's General Data Protection Regulation\n",
    "\n",
    "In this workshop we develop a tool for anonymizing text-heavy unstructured data"
   ]
  },
  {
   "cell_type": "markdown",
   "metadata": {},
   "source": [
    "Let's get some data:"
   ]
  },
  {
   "cell_type": "code",
   "execution_count": null,
   "metadata": {},
   "outputs": [],
   "source": [
    "sent_0 = \"WASHINGTON -- In the wake of a string of abuses by New York police \\\n",
    "officers in the 1990s, Loretta E. Lynch, the top federal prosecutor in Brooklyn, \\\n",
    "spoke forcefully about the pain of a broken trust that African-Americans felt \\\n",
    "and said the responsibility for repairing generations of miscommunication and \\\n",
    "mistrust fell to law enforcement and Loretta E. Lynch.\"\n",
    "\n",
    "sent_1 = \"Ms. Lynch, a career prosecutor, is now awaiting a hearing on her \\\n",
    "nomination to be the next attorney general. Her remarks, made in two speeches \\\n",
    "during her first term as United States attorney during the Clinton \\\n",
    "administration, received little attention at the time. Today, however, \\\n",
    "the transcripts of those speeches offer insight into Ms. Lynch’s thinking \\\n",
    "about an issue that will immediately occupy her attention if she is \\\n",
    "confirmed as the first black woman to serve as attorney general.\""
   ]
  },
  {
   "cell_type": "markdown",
   "metadata": {},
   "source": [
    "Please explain the challenges in making the samples anonymous "
   ]
  }
 ],
 "metadata": {
  "kernelspec": {
   "display_name": "demo",
   "language": "python",
   "name": "demo"
  },
  "language_info": {
   "codemirror_mode": {
    "name": "ipython",
    "version": 3
   },
   "file_extension": ".py",
   "mimetype": "text/x-python",
   "name": "python",
   "nbconvert_exporter": "python",
   "pygments_lexer": "ipython3",
   "version": "3.5.2"
  }
 },
 "nbformat": 4,
 "nbformat_minor": 2
}
