{
 "cells": [
  {
   "cell_type": "markdown",
   "metadata": {},
   "source": [
    "# Text Processing in Python - Basic #"
   ]
  },
  {
   "cell_type": "code",
   "execution_count": 6,
   "metadata": {},
   "outputs": [
    {
     "name": "stdout",
     "output_type": "stream",
     "text": [
      "Hans gik en tur i skoven\n"
     ]
    }
   ],
   "source": [
    "saetning = \"Hans gik en tur i skoven\"\n",
    "print(saetning)"
   ]
  },
  {
   "cell_type": "markdown",
   "metadata": {},
   "source": [
    "## Regular Expressions or Regex ##"
   ]
  },
  {
   "cell_type": "code",
   "execution_count": 24,
   "metadata": {},
   "outputs": [
    {
     "name": "stdout",
     "output_type": "stream",
     "text": [
      "string without numbers: this is a string with a couple of numbers ETTAL and more numbers ETTAL\n",
      "these are the numbers:  25231 221\n"
     ]
    }
   ],
   "source": [
    "import re\n",
    "str_1 = \"this is a string with a couple of numbers 25231 and more numbers 221\"\n",
    "#print(str_1)\n",
    "\n",
    "# let's remove the numbers\n",
    "text = re.sub(r\"[0-9]+\",\"ETTAL\", str_1)\n",
    "print(\"string without numbers: {}\".format(text))\n",
    "\n",
    "# get all number with a whitespace\n",
    "text = re.sub(r\"\\D+\",\" \", str_1)\n",
    "print(\"these are the numbers: {}\".format(text))"
   ]
  },
  {
   "cell_type": "markdown",
   "metadata": {},
   "source": [
    "### tokenization with regular expressions ###"
   ]
  },
  {
   "cell_type": "code",
   "execution_count": 27,
   "metadata": {},
   "outputs": [
    {
     "name": "stdout",
     "output_type": "stream",
     "text": [
      "this is a sentence I want to tokenize with regex\n",
      "['this', 'is', 'a', 'sentence', 'I', 'want', 'to', 'tokenize', 'with', 'regex']\n"
     ]
    }
   ],
   "source": [
    "str_2 = \"this is a sentence I want to tokenize with regex\"\n",
    "print(str_2)\n",
    "\n",
    "text = re.split(r\" \",str_2)\n",
    "print(text)"
   ]
  },
  {
   "cell_type": "code",
   "execution_count": 37,
   "metadata": {},
   "outputs": [
    {
     "name": "stdout",
     "output_type": "stream",
     "text": [
      "['this', 'is', 'a', 'sentence,', 'and', 'this', 'is', 'another', 'sentence']\n",
      "['this', 'is', 'a', 'sentence', 'and', 'this', 'is', 'another', 'sentence']\n"
     ]
    }
   ],
   "source": [
    "str_3 = \"this is a sentence, and this is another sentence\"\n",
    "# the old way distinguishes between \"sentence,\" and \"sentence\"\n",
    "text = re.split(r\" \",str_3)\n",
    "print(text)\n",
    "# regex class that identifies alphanumeric characters\n",
    "text = re.split(r\"\\W+\",str_3)\n",
    "print(text)"
   ]
  },
  {
   "cell_type": "code",
   "execution_count": 41,
   "metadata": {},
   "outputs": [
    {
     "name": "stdout",
     "output_type": "stream",
     "text": [
      "2\n"
     ]
    }
   ],
   "source": [
    "str_4 = \"some numbers here 1234 and more here 5678 and more here 90\"\n",
    "numbers = re.findall(r\"more\", str_4)\n",
    "print(len(numbers))"
   ]
  },
  {
   "cell_type": "markdown",
   "metadata": {},
   "source": [
    "Complex string queries"
   ]
  },
  {
   "cell_type": "code",
   "execution_count": 55,
   "metadata": {},
   "outputs": [
    {
     "name": "stdout",
     "output_type": "stream",
     "text": [
      "('quick', 'fox')\n",
      "4\n",
      "19\n"
     ]
    }
   ],
   "source": [
    "complex_str = \"the quick brown fox jumps over the lazy dog\"\n",
    "match = re.search(r\"(quick|slow).{1,20}(fox|camel)\", complex_str)\n",
    "if julemand:\n",
    "    print(match.groups())\n",
    "    print(match.start())\n",
    "    print(match.end())"
   ]
  },
  {
   "cell_type": "code",
   "execution_count": 62,
   "metadata": {},
   "outputs": [
    {
     "name": "stdout",
     "output_type": "stream",
     "text": [
      "THIS IS A STRING\n"
     ]
    }
   ],
   "source": [
    "print(\"this is a string\".upper().lower().upper())"
   ]
  }
 ],
 "metadata": {
  "kernelspec": {
   "display_name": "demo",
   "language": "python",
   "name": "demo"
  },
  "language_info": {
   "codemirror_mode": {
    "name": "ipython",
    "version": 3
   },
   "file_extension": ".py",
   "mimetype": "text/x-python",
   "name": "python",
   "nbconvert_exporter": "python",
   "pygments_lexer": "ipython3",
   "version": "3.5.2"
  }
 },
 "nbformat": 4,
 "nbformat_minor": 2
}
